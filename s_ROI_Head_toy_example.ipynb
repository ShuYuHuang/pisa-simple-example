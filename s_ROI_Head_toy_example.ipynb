{
 "cells": [
  {
   "cell_type": "markdown",
   "id": "a32385a5",
   "metadata": {},
   "source": [
    "# ROI Head中的計算"
   ]
  },
  {
   "cell_type": "code",
   "execution_count": null,
   "id": "0ea4d528",
   "metadata": {},
   "outputs": [],
   "source": [
    "# 前面要先灌mmdetection\n",
    "!pip install openmim\n",
    "!mim install mmdet"
   ]
  },
  {
   "cell_type": "markdown",
   "id": "8d9cf52c",
   "metadata": {},
   "source": [
    "## 1. ROI Head Rough Flow"
   ]
  },
  {
   "cell_type": "markdown",
   "id": "da9483fc",
   "metadata": {},
   "source": [
    "ROI Head做的事情"
   ]
  },
  {
   "cell_type": "markdown",
   "id": "672d992e",
   "metadata": {},
   "source": [
    "**a. 先把要忽略的ground truth忽略掉, 沒有要忽略就填None**\n",
    "``` python\n",
    "if self.with_bbox or self.with_mask:\n",
    "    num_imgs = len(img_metas)\n",
    "    if gt_bboxes_ignore is None:\n",
    "        gt_bboxes_ignore = [None for _ in range(num_imgs)]\n",
    "```\n",
    "**再來做sampling，for batch中每張照片**\n",
    "``` python\n",
    "    sampling_results = []\n",
    "    neg_label_weights = []\n",
    "    for i in range(num_imgs):\n",
    "```\n",
    "**b. Assign ground truth box給 各prediction box**\n",
    "``` python  \n",
    "    assign_result = self.bbox_assigner.assign(\n",
    "        proposal_list[i], gt_bboxes[i], gt_bboxes_ignore[i],\n",
    "        gt_labels[i])\n",
    "```\n",
    "**c. Sample 一些positive, negative做訓練**\n",
    "``` python\n",
    "    sampling_result = self.bbox_sampler.sample(\n",
    "        assign_result,\n",
    "        proposal_list[i],\n",
    "        gt_bboxes[i],\n",
    "        gt_labels[i],\n",
    "        feats=[lvl_feat[i][None] for lvl_feat in x])\n",
    "```\n",
    "最後將sampling結果存list，供後續使用\n",
    "``` python\n",
    "    # neg label weight is obtained by sampling when using ISR-N\n",
    "    neg_label_weight = None\n",
    "    if isinstance(sampling_result, tuple):\n",
    "        sampling_result, neg_label_weight = sampling_result\n",
    "    sampling_results.append(sampling_result)\n",
    "    neg_label_weights.append(neg_label_weight)\n",
    "```"
   ]
  },
  {
   "cell_type": "markdown",
   "id": "21835694",
   "metadata": {},
   "source": [
    "**d. ROI Pooling後預測bounding box**\n",
    "```python\n",
    "    # 將sample結果bounding box轉成ROI mask\n",
    "    rois = bbox2roi([res.bboxes for res in sampling_results])\n",
    "    # 將ROI Mask套用在feature map上\n",
    "    bbox_results = self._bbox_forward(x, rois)\n",
    "    cls_score = bbox_results['cls_score']\n",
    "    bbox_pred = bbox_results['bbox_pred']\n",
    "```\n",
    "取得bounding box預測後對上相應的ground truth bounding box\n",
    "```python\n",
    "    bbox_targets = self.bbox_head.get_targets(sampling_results, gt_bboxes,\n",
    "                                              gt_labels, self.train_cfg)\n",
    "```\n",
    "**e.使用ISR演算法將positive bbox對ground truth做attention**\n",
    "```python\n",
    "    isr_cfg = self.train_cfg.get('isr', None)\n",
    "    if isr_cfg is not None:\n",
    "        bbox_targets = isr_p(\n",
    "            cls_score,\n",
    "            bbox_pred,\n",
    "            bbox_targets,\n",
    "            rois,\n",
    "            sampling_results,\n",
    "            self.bbox_head.loss_cls,\n",
    "            self.bbox_head.bbox_coder,\n",
    "            **isr_cfg,\n",
    "            num_class=self.bbox_head.num_classes)\n",
    "    loss_bbox = self.bbox_head.loss(cls_score, bbox_pred, rois,\n",
    "                                    *bbox_targets)\n",
    "```\n",
    "**f. 使用CARL演算法將negative bbox做attention**\n",
    "```python\n",
    "    carl_cfg = self.train_cfg.get('carl', None)\n",
    "    if carl_cfg is not None:\n",
    "        loss_carl = carl_loss(\n",
    "            cls_score,\n",
    "            bbox_targets[0],\n",
    "            bbox_pred,\n",
    "            bbox_targets[2],\n",
    "            self.bbox_head.loss_bbox,\n",
    "            **carl_cfg,\n",
    "            num_class=self.bbox_head.num_classes)\n",
    "        loss_bbox.update(loss_carl)\n",
    "\n",
    "    bbox_results.update(loss_bbox=loss_bbox)\n",
    "    return bbox_results\n",
    "```"
   ]
  },
  {
   "cell_type": "markdown",
   "id": "85125477",
   "metadata": {},
   "source": [
    "## 2.Proposal 與Ground Truth BBox計算IOU"
   ]
  },
  {
   "cell_type": "code",
   "execution_count": 1,
   "id": "073d7a83",
   "metadata": {},
   "outputs": [],
   "source": [
    "import cv2\n",
    "import numpy as np\n",
    "import torch\n",
    "import matplotlib.pyplot as plt"
   ]
  },
  {
   "cell_type": "code",
   "execution_count": 2,
   "id": "42520587",
   "metadata": {},
   "outputs": [],
   "source": [
    "image=torch.zeros((128,128,3))\n",
    "\n",
    "bbox = torch.tensor([[20, 20, 100, 100],],dtype=torch.int16) \n",
    "bbox_gt = torch.tensor([[60, 60, 100, 100],],dtype=torch.int16) "
   ]
  },
  {
   "cell_type": "code",
   "execution_count": 3,
   "id": "e4ed7eb7",
   "metadata": {},
   "outputs": [],
   "source": [
    "from mmdet.core.bbox.iou_calculators.builder import build_iou_calculator\n",
    "iou_calculator=build_iou_calculator({'type':'BboxOverlaps2D'})\n",
    "def add_bbox(img,box,color,text):\n",
    "    img=cv2.rectangle(img, box[:2].numpy(),box[2:].numpy(), color=color, thickness=1)\n",
    "    plt.text(*box[:2].numpy(),\n",
    "             text,\n",
    "             color=color,\n",
    "             fontsize =\"large\",\n",
    "             verticalalignment=\"bottom\")\n",
    "def show_box_and_iou(image,bbox_pred,bbox_gt):\n",
    "    # 轉換圖片成numpy格式\n",
    "    plt.figure(figsize=(5,5))\n",
    "    img=image.detach().cpu().numpy().copy()\n",
    "    color_pred=(1,1,1)\n",
    "    color_gt=(0,1,0)\n",
    "    for n,box in enumerate(bbox_pred):\n",
    "        add_bbox(img,box,color_pred,f\"{n}\")\n",
    "    for n,box in enumerate(bbox_gt):\n",
    "        add_bbox(img,box,color_gt,f\"gt{n}\")\n",
    "    plt.imshow(img)\n",
    "    overlaps =iou_calculator(bbox_gt.to(torch.float32),bbox_pred.to(torch.float32))\n",
    "    plt.show()\n",
    "    return overlaps"
   ]
  },
  {
   "cell_type": "code",
   "execution_count": 4,
   "id": "2c0992b9",
   "metadata": {},
   "outputs": [
    {
     "data": {
      "image/png": "[encoded data removed]",
      "text/plain": [
       "<Figure size 360x360 with 1 Axes>"
      ]
     },
     "metadata": {
      "needs_background": "light"
     },
     "output_type": "display_data"
    },
    {
     "data": {
      "text/plain": [
       "tensor([[0.2500]])"
      ]
     },
     "execution_count": 4,
     "metadata": {},
     "output_type": "execute_result"
    }
   ],
   "source": [
    "overlaps = show_box_and_iou(image,bbox,bbox_gt);overlaps"
   ]
  },
  {
   "cell_type": "markdown",
   "id": "23eca131",
   "metadata": {},
   "source": [
    "#### Exercise"
   ]
  },
  {
   "cell_type": "markdown",
   "id": "36973ffa",
   "metadata": {},
   "source": [
    "可以感受一下不同prediction,ground truth組合的的iou"
   ]
  },
  {
   "cell_type": "code",
   "execution_count": 7,
   "id": "33369490",
   "metadata": {},
   "outputs": [
    {
     "data": {
      "image/png": "[encoded data removed]",
      "text/plain": [
       "<Figure size 360x360 with 1 Axes>"
      ]
     },
     "metadata": {
      "needs_background": "light"
     },
     "output_type": "display_data"
    },
    {
     "data": {
      "text/plain": [
       "tensor([[0.2564, 0.0000],\n",
       "        [0.0072, 0.0000],\n",
       "        [0.0000, 0.0000]])"
      ]
     },
     "execution_count": 7,
     "metadata": {},
     "output_type": "execute_result"
    }
   ],
   "source": [
    "def rnd_bbox(frame_w=128,fram_h=128,amnt=6):\n",
    "    x=torch.randint(5,frame_w-5,(amnt*2,))\n",
    "    y=torch.randint(5,fram_h-5,(amnt*2,))\n",
    "    xs=torch.stack((x[:amnt],x[amnt:]),-1)\n",
    "    ys=torch.stack((y[:amnt],y[amnt:]),-1)\n",
    "    x_mins=xs.min(dim=-1,keepdim=True).values\n",
    "    y_mins=ys.min(dim=-1,keepdim=True).values\n",
    "    x_maxs=xs.max(dim=-1,keepdim=True).values\n",
    "    y_maxs=ys.max(dim=-1,keepdim=True).values\n",
    "    boxes=torch.cat((x_mins,y_mins,x_maxs,y_maxs),dim=-1)\n",
    "    return boxes\n",
    "W=128\n",
    "image=torch.zeros((W,W,3))\n",
    "num_gts=3;num_bboxes=2\n",
    "bbox=rnd_bbox(W,W,num_bboxes)\n",
    "bbox_gt = rnd_bbox(W,W,num_gts)\n",
    "overlaps = show_box_and_iou(image,bbox,bbox_gt);overlaps"
   ]
  },
  {
   "cell_type": "markdown",
   "id": "4d5ce203",
   "metadata": {},
   "source": [
    "為方便解說我們用固定的組合"
   ]
  },
  {
   "cell_type": "code",
   "execution_count": 8,
   "id": "f3bbaaa1",
   "metadata": {},
   "outputs": [
    {
     "data": {
      "image/png": "[encoded data removed]",
      "text/plain": [
       "<Figure size 360x360 with 1 Axes>"
      ]
     },
     "metadata": {
      "needs_background": "light"
     },
     "output_type": "display_data"
    },
    {
     "data": {
      "text/plain": [
       "tensor([[0.7331, 0.6140, 0.0000, 0.0000],\n",
       "        [0.0000, 0.0000, 0.6562, 0.0000]])"
      ]
     },
     "execution_count": 8,
     "metadata": {},
     "output_type": "execute_result"
    }
   ],
   "source": [
    "bbox = torch.tensor([[25, 25, 61, 61],\n",
    "                        [17, 30, 65, 58],\n",
    "                        [90, 85, 120, 120],\n",
    "                        [20, 80, 60, 120]],dtype=torch.int16)\n",
    "bbox_gt = torch.tensor([[20, 20, 60, 60],\n",
    "                     [80, 80, 120, 120]],dtype=torch.int16) \n",
    "num_bboxes=len(bbox);num_gts=len(bbox_gt)\n",
    "overlaps = show_box_and_iou(image,bbox,bbox_gt);overlaps"
   ]
  },
  {
   "cell_type": "markdown",
   "id": "9ac959b1",
   "metadata": {},
   "source": [
    "- 對於ground truth 0, 第0個proposal與他IOU最高\n",
    "- 對於ground truth 1, 第2個proposal與他IOU最高"
   ]
  },
  {
   "cell_type": "markdown",
   "id": "3c70efc5",
   "metadata": {},
   "source": [
    "## 3.Ground Truth Assignment"
   ]
  },
  {
   "cell_type": "markdown",
   "id": "719f8e37",
   "metadata": {},
   "source": [
    "下面是把每個proposal assign相對的ground truthoverlaps"
   ]
  },
  {
   "cell_type": "code",
   "execution_count": 9,
   "id": "5fe85e94",
   "metadata": {},
   "outputs": [
    {
     "data": {
      "text/plain": [
       "tensor([-1, -1, -1, -1])"
      ]
     },
     "execution_count": 9,
     "metadata": {},
     "output_type": "execute_result"
    }
   ],
   "source": [
    "# 1. assign -1 by default\n",
    "assigned_gt_inds = overlaps.new_full((num_bboxes, ),-1,dtype=torch.long)\n",
    "assigned_gt_inds"
   ]
  },
  {
   "cell_type": "code",
   "execution_count": 10,
   "id": "da12da04",
   "metadata": {},
   "outputs": [
    {
     "name": "stdout",
     "output_type": "stream",
     "text": [
      "tensor([0.7331, 0.6140, 0.6562, 0.0000]) tensor([0, 0, 1, 0])\n",
      "tensor([0.7331, 0.6562]) tensor([0, 2])\n"
     ]
    }
   ],
   "source": [
    "# for each anchor, which gt best overlaps with it\n",
    "# for each anchor, the max iou of all gts\n",
    "max_overlaps, argmax_overlaps = overlaps.max(dim=0)\n",
    "print(max_overlaps, argmax_overlaps )\n",
    "# for each gt, which anchor best overlaps with it\n",
    "# for each gt, the max iou of all proposals\n",
    "gt_max_overlaps, gt_argmax_overlaps = overlaps.max(dim=1)\n",
    "print(gt_max_overlaps, gt_argmax_overlaps )"
   ]
  },
  {
   "cell_type": "code",
   "execution_count": 25,
   "id": "f7b462ed",
   "metadata": {},
   "outputs": [
    {
     "data": {
      "text/plain": [
       "tensor([-1, -1, -1,  0])"
      ]
     },
     "execution_count": 25,
     "metadata": {},
     "output_type": "execute_result"
    }
   ],
   "source": [
    "neg_iou_thr=0.3\n",
    "# 2. assign negative: below the negative inds are set to be 0\n",
    "if isinstance(neg_iou_thr, float):\n",
    "    assigned_gt_inds[(max_overlaps >= 0)\n",
    "                     & (max_overlaps < neg_iou_thr)] = 0\n",
    "elif isinstance(neg_iou_thr, tuple):\n",
    "    assert len(neg_iou_thr) == 2\n",
    "    assigned_gt_inds[(max_overlaps >= neg_iou_thr[0])\n",
    "                     & (max_overlaps < neg_iou_thr[1])] = 0\n",
    "assigned_gt_inds"
   ]
  },
  {
   "cell_type": "code",
   "execution_count": 26,
   "id": "cc995932",
   "metadata": {},
   "outputs": [
    {
     "data": {
      "text/plain": [
       "tensor([1, 1, 2, 0])"
      ]
     },
     "execution_count": 26,
     "metadata": {},
     "output_type": "execute_result"
    }
   ],
   "source": [
    "pos_iou_thr=0.6\n",
    "# 3. assign positive: above positive IoU threshold\n",
    "pos_inds = max_overlaps >= pos_iou_thr\n",
    "assigned_gt_inds[pos_inds] = argmax_overlaps[pos_inds] + 1\n",
    "assigned_gt_inds"
   ]
  },
  {
   "cell_type": "code",
   "execution_count": 27,
   "id": "b90c1218",
   "metadata": {},
   "outputs": [
    {
     "data": {
      "text/plain": [
       "tensor([1, 1, 2, 0])"
      ]
     },
     "execution_count": 27,
     "metadata": {},
     "output_type": "execute_result"
    }
   ],
   "source": [
    "# Low-quality matching will overwrite the assigned_gt_inds assigned\n",
    "# in Step 3. Thus, the assigned gt might not be the best one for\n",
    "# prediction.\n",
    "# For example, if bbox A has 0.9 and 0.8 iou with GT bbox 1 & 2,\n",
    "# bbox 1 will be assigned as the best target for bbox A in step 3.\n",
    "# However, if GT bbox 2's gt_argmax_overlaps = A, bbox A's\n",
    "# assigned_gt_inds will be overwritten to be bbox B.\n",
    "# This might be the reason that it is not used in ROI Heads.\n",
    "min_pos_iou=0.3\n",
    "gt_max_assign_all=True # by default\n",
    "for i in range(num_gts):\n",
    "    if gt_max_overlaps[i] >= min_pos_iou:\n",
    "        if gt_max_assign_all:\n",
    "            max_iou_inds = overlaps[i, :] == gt_max_overlaps[i]\n",
    "            assigned_gt_inds[max_iou_inds] = i + 1\n",
    "        else:\n",
    "            assigned_gt_inds[gt_argmax_overlaps[i]] = i + 1\n",
    "assigned_gt_inds"
   ]
  },
  {
   "cell_type": "markdown",
   "id": "fff41237",
   "metadata": {},
   "source": [
    "最後若有class label的話將label assign上去\n",
    "\n",
    "(前面在訓練RPN時也會用到，後面這段要到整個model output才有)"
   ]
  },
  {
   "cell_type": "code",
   "execution_count": 31,
   "id": "c8cff1e8",
   "metadata": {},
   "outputs": [
    {
     "data": {
      "text/plain": [
       "tensor([ 0,  0,  1, -1])"
      ]
     },
     "execution_count": 31,
     "metadata": {},
     "output_type": "execute_result"
    }
   ],
   "source": [
    "gt_labels=torch.tensor([0,1],dtype=torch.long) \n",
    "if gt_labels is not None:\n",
    "    assigned_labels = assigned_gt_inds.new_full((num_bboxes, ), -1)\n",
    "    pos_inds = torch.nonzero(\n",
    "        assigned_gt_inds > 0, as_tuple=False).squeeze()\n",
    "    if pos_inds.numel() > 0:\n",
    "        assigned_labels[pos_inds] = gt_labels[\n",
    "            assigned_gt_inds[pos_inds] - 1]\n",
    "else:\n",
    "    assigned_labels = None\n",
    "assigned_labels"
   ]
  },
  {
   "cell_type": "code",
   "execution_count": 30,
   "id": "f0951ef7",
   "metadata": {},
   "outputs": [
    {
     "data": {
      "text/plain": [
       "{'num_gts': 2,\n",
       " 'num_preds': 4,\n",
       " 'gt_inds': tensor([1, 1, 2, 0]),\n",
       " 'max_overlaps': tensor([0.7331, 0.6140, 0.6562, 0.0000]),\n",
       " 'labels': tensor([ 0,  0,  1, -1])}"
      ]
     },
     "execution_count": 30,
     "metadata": {},
     "output_type": "execute_result"
    }
   ],
   "source": [
    "from mmdet.core.bbox.assigners import AssignResult\n",
    "rslt=AssignResult(num_gts, assigned_gt_inds, max_overlaps, labels=assigned_labels)\n",
    "rslt.info"
   ]
  },
  {
   "cell_type": "code",
   "execution_count": 32,
   "id": "3142040a",
   "metadata": {},
   "outputs": [
    {
     "data": {
      "image/png": "[encoded data removed]",
      "text/plain": [
       "<Figure size 360x360 with 1 Axes>"
      ]
     },
     "metadata": {
      "needs_background": "light"
     },
     "output_type": "display_data"
    },
    {
     "data": {
      "text/plain": [
       "tensor([[0.7331, 0.6140, 0.0000, 0.0000],\n",
       "        [0.0000, 0.0000, 0.6562, 0.0000]])"
      ]
     },
     "execution_count": 32,
     "metadata": {},
     "output_type": "execute_result"
    }
   ],
   "source": [
    "overlaps = show_box_and_iou(image,bbox,bbox_gt);overlaps"
   ]
  },
  {
   "cell_type": "markdown",
   "id": "41539a8d",
   "metadata": {},
   "source": [
    "### 2. Importance-based Sample Reweighting(ISR)"
   ]
  },
  {
   "cell_type": "markdown",
   "id": "d641e3ca",
   "metadata": {},
   "source": [
    "PISA演算法對proposal做attention，稱做Importance-based Sample Reweighting(ISR)\n",
    "\n",
    "會使用IOU的Hierarchical Local Rank(HLR)做為attention值參考來源"
   ]
  },
  {
   "cell_type": "markdown",
   "id": "341d632b",
   "metadata": {},
   "source": [
    "這邊其實還要跑ROI Pooling後的bounding box prediction才開始算，方便起見我們拿paper上的例子就好"
   ]
  },
  {
   "cell_type": "markdown",
   "id": "6f789b9e",
   "metadata": {},
   "source": [
    "<img src=https://i.imgur.com/65FacPS.png width=\"300\">"
   ]
  },
  {
   "cell_type": "markdown",
   "id": "5de8f6f6",
   "metadata": {},
   "source": [
    "[下列code來源於mmdetection中pisa loss的部分](https://github.com/open-mmlab/mmdetection/blob/5e246d5e3bc3310b5c625fb57bc03d2338ca39bc/mmdet/models/losses/pisa_loss.py)"
   ]
  },
  {
   "cell_type": "code",
   "execution_count": 50,
   "id": "e33f71e1",
   "metadata": {},
   "outputs": [],
   "source": [
    "import numpy as np\n",
    "import matplotlib.pyplot as plt"
   ]
  },
  {
   "cell_type": "code",
   "execution_count": 73,
   "id": "611ec230",
   "metadata": {},
   "outputs": [],
   "source": [
    "pos_labels=torch.tensor([0,0],dtype=torch.int16)\n",
    "max_l_num=pos_labels.bincount().max()"
   ]
  },
  {
   "cell_type": "code",
   "execution_count": 75,
   "id": "02195523",
   "metadata": {},
   "outputs": [],
   "source": [
    "ious=[torch.tensor([.63,.52,.71],dtype=torch.float32),\n",
    "      torch.tensor([.92,.5],dtype=torch.float32)]"
   ]
  },
  {
   "cell_type": "code",
   "execution_count": 69,
   "id": "3e9fc097",
   "metadata": {},
   "outputs": [],
   "source": [
    "_, t_iou_rank_idx=ious.sort(descending=True)"
   ]
  },
  {
   "cell_type": "code",
   "execution_count": 76,
   "id": "326f117f",
   "metadata": {},
   "outputs": [
    {
     "data": {
      "text/plain": [
       "tensor([0, 1, 2, 3, 4])"
      ]
     },
     "execution_count": 76,
     "metadata": {},
     "output_type": "execute_result"
    }
   ],
   "source": [
    "(pos_labels == label).nonzero().view(-1)"
   ]
  },
  {
   "cell_type": "code",
   "execution_count": 77,
   "id": "50feab3e",
   "metadata": {},
   "outputs": [
    {
     "data": {
      "text/plain": [
       "tensor([0, 1, 2, 3, 4])"
      ]
     },
     "execution_count": 77,
     "metadata": {},
     "output_type": "execute_result"
    }
   ],
   "source": [
    "l_inds"
   ]
  },
  {
   "cell_type": "code",
   "execution_count": 66,
   "id": "3d74de25",
   "metadata": {},
   "outputs": [
    {
     "ename": "NameError",
     "evalue": "name 'gts' is not defined",
     "output_type": "error",
     "traceback": [
      "\u001b[0;31m---------------------------------------------------------------------------\u001b[0m",
      "\u001b[0;31mNameError\u001b[0m                                 Traceback (most recent call last)",
      "\u001b[0;32m/tmp/ipykernel_3065866/2181387048.py\u001b[0m in \u001b[0;36m<module>\u001b[0;34m\u001b[0m\n\u001b[1;32m      2\u001b[0m \u001b[0;32mfor\u001b[0m \u001b[0mlabel\u001b[0m \u001b[0;32min\u001b[0m \u001b[0mpos_labels\u001b[0m\u001b[0;34m.\u001b[0m\u001b[0munique\u001b[0m\u001b[0;34m(\u001b[0m\u001b[0;34m)\u001b[0m\u001b[0;34m:\u001b[0m\u001b[0;34m\u001b[0m\u001b[0;34m\u001b[0m\u001b[0m\n\u001b[1;32m      3\u001b[0m     \u001b[0ml_inds\u001b[0m \u001b[0;34m=\u001b[0m \u001b[0;34m(\u001b[0m\u001b[0mpos_labels\u001b[0m \u001b[0;34m==\u001b[0m \u001b[0mlabel\u001b[0m\u001b[0;34m)\u001b[0m\u001b[0;34m.\u001b[0m\u001b[0mnonzero\u001b[0m\u001b[0;34m(\u001b[0m\u001b[0;34m)\u001b[0m\u001b[0;34m.\u001b[0m\u001b[0mview\u001b[0m\u001b[0;34m(\u001b[0m\u001b[0;34m-\u001b[0m\u001b[0;36m1\u001b[0m\u001b[0;34m)\u001b[0m\u001b[0;34m\u001b[0m\u001b[0;34m\u001b[0m\u001b[0m\n\u001b[0;32m----> 4\u001b[0;31m     \u001b[0ml_gts\u001b[0m \u001b[0;34m=\u001b[0m \u001b[0mgts\u001b[0m\u001b[0;34m[\u001b[0m\u001b[0ml_inds\u001b[0m\u001b[0;34m]\u001b[0m\u001b[0;34m\u001b[0m\u001b[0;34m\u001b[0m\u001b[0m\n\u001b[0m\u001b[1;32m      5\u001b[0m     \u001b[0;32mfor\u001b[0m \u001b[0mt\u001b[0m \u001b[0;32min\u001b[0m \u001b[0ml_gts\u001b[0m\u001b[0;34m.\u001b[0m\u001b[0munique\u001b[0m\u001b[0;34m(\u001b[0m\u001b[0;34m)\u001b[0m\u001b[0;34m:\u001b[0m\u001b[0;34m\u001b[0m\u001b[0;34m\u001b[0m\u001b[0m\n\u001b[1;32m      6\u001b[0m         \u001b[0mt_inds\u001b[0m \u001b[0;34m=\u001b[0m \u001b[0ml_inds\u001b[0m\u001b[0;34m[\u001b[0m\u001b[0ml_gts\u001b[0m \u001b[0;34m==\u001b[0m \u001b[0mt\u001b[0m\u001b[0;34m]\u001b[0m\u001b[0;34m\u001b[0m\u001b[0;34m\u001b[0m\u001b[0m\n",
      "\u001b[0;31mNameError\u001b[0m: name 'gts' is not defined"
     ]
    }
   ],
   "source": [
    "label=pos_labels.unique():\n",
    "l_inds = (pos_labels == label).nonzero().view(-1)\n",
    "l_gts = gts[l_inds]\n",
    "for t in l_gts.unique():\n",
    "    t_inds = l_inds[l_gts == t]\n",
    "    t_ious = ious[t_inds]\n",
    "    _, t_iou_rank_idx = t_ious.sort(descending=True)\n",
    "    _, t_iou_rank = t_iou_rank_idx.sort()\n",
    "    ious[t_inds] += max_l_num - t_iou_rank.float()\n",
    "l_ious = ious[l_inds]\n",
    "_, l_iou_rank_idx = l_ious.sort(descending=True)\n",
    "_, l_iou_rank = l_iou_rank_idx.sort()  # IoU-HLR\n",
    "# linearly map HLR to label weights\n",
    "pos_imp_weights[l_inds] *= (max_l_num - l_iou_rank.float()) / max_l_num\n",
    "\n",
    "pos_imp_weights = (bias + pos_imp_weights * (1 - bias)).pow(k)"
   ]
  },
  {
   "cell_type": "code",
   "execution_count": null,
   "id": "c6b976cb",
   "metadata": {},
   "outputs": [],
   "source": []
  },
  {
   "cell_type": "markdown",
   "id": "93000f9b",
   "metadata": {},
   "source": [
    "取得排名之後會先使用最大值做正規化，然後再調整最低分數與銳利化，讓算值更偏向重要的proposal"
   ]
  },
  {
   "cell_type": "code",
   "execution_count": 11,
   "id": "d563c49e",
   "metadata": {},
   "outputs": [],
   "source": [
    "# 正歸化\n",
    "def normalize(rank,n_max=5):\n",
    "    return (n_max-rank)/n_max\n",
    "# 調整最低分數與銳利化\n",
    "def sharpen(p,beta=0.,gamma=1.):\n",
    "    return ((1.-beta)*p+beta)**gamma"
   ]
  },
  {
   "cell_type": "markdown",
   "id": "c43d299a",
   "metadata": {},
   "source": [
    "用paper範例算出的rank來試試看"
   ]
  },
  {
   "cell_type": "code",
   "execution_count": 13,
   "id": "2608fac5",
   "metadata": {},
   "outputs": [
    {
     "name": "stdout",
     "output_type": "stream",
     "text": [
      "[1.   0.75 0.5  0.25 0.  ]\n",
      "[1.         0.66992188 0.421875   0.24414062 0.125     ]\n"
     ]
    }
   ],
   "source": [
    "hl_rank=np.array([0,1,2,3,4])\n",
    "hlr_score=normalize(hl_rank,n_max=4);print(hlr_score)\n",
    "hlr_attention=sharpen(hlr_score,beta=0.5,gamma=3);print(hlr_attention)"
   ]
  },
  {
   "cell_type": "code",
   "execution_count": 20,
   "id": "d46e5ffc",
   "metadata": {},
   "outputs": [
    {
     "data": {
      "image/png": "[encoded data removed]",
      "text/plain": [
       "<Figure size 432x288 with 1 Axes>"
      ]
     },
     "metadata": {
      "needs_background": "light"
     },
     "output_type": "display_data"
    }
   ],
   "source": [
    "p=np.random.normal(loc=2.,size=(10000))\n",
    "plt.hist(sharpen(p,beta=0.2,gamma=1),bins=500,histtype=\"step\")\n",
    "plt.show()"
   ]
  },
  {
   "cell_type": "markdown",
   "id": "9df0881a",
   "metadata": {},
   "source": [
    "## Exercise"
   ]
  },
  {
   "cell_type": "markdown",
   "id": "dd8d8dfd",
   "metadata": {},
   "source": [
    "* 調整beta值看看對random normal亂數分布有何影響?"
   ]
  },
  {
   "cell_type": "markdown",
   "id": "47d2c323",
   "metadata": {},
   "source": [
    "## Reference"
   ]
  },
  {
   "cell_type": "markdown",
   "id": "e902a0ba",
   "metadata": {},
   "source": [
    "* [PISA] Cao, Y., Chen, K., Loy, C. C., & Lin, D. (2020). Prime sample attention in object detection. In Proceedings of the IEEE/CVF Conference on Computer Vision and Pattern Recognition (pp. 11583-11591)."
   ]
  }
 ],
 "metadata": {
  "kernelspec": {
   "display_name": "Python 3 (ipykernel)",
   "language": "python",
   "name": "python3"
  },
  "language_info": {
   "codemirror_mode": {
    "name": "ipython",
    "version": 3
   },
   "file_extension": ".py",
   "mimetype": "text/x-python",
   "name": "python",
   "nbconvert_exporter": "python",
   "pygments_lexer": "ipython3",
   "version": "3.7.10"
  }
 },
 "nbformat": 4,
 "nbformat_minor": 5
}
