{
 "cells": [
  {
   "cell_type": "markdown",
   "id": "ea449698",
   "metadata": {},
   "source": [
    "### 1. ROI Head Rough Flow"
   ]
  },
  {
   "cell_type": "markdown",
   "id": "9545f934",
   "metadata": {},
   "source": [
    "ROI Head做的事情"
   ]
  },
  {
   "cell_type": "markdown",
   "id": "18b175ab",
   "metadata": {},
   "source": [
    "a. 先把要忽略的ground truth忽略掉, 沒有要忽略就填None\n",
    "``` python\n",
    "if self.with_bbox or self.with_mask:\n",
    "    num_imgs = len(img_metas)\n",
    "    if gt_bboxes_ignore is None:\n",
    "        gt_bboxes_ignore = [None for _ in range(num_imgs)]\n",
    "```\n",
    "再來做sampling，for每張照片\n",
    "``` python\n",
    "    sampling_results = []\n",
    "    neg_label_weights = []\n",
    "    for i in range(num_imgs):\n",
    "```\n",
    "**b. Assign ground truth box給 各prediction box**\n",
    "``` python  \n",
    "        assign_result = self.bbox_assigner.assign(\n",
    "            proposal_list[i], gt_bboxes[i], gt_bboxes_ignore[i],\n",
    "            gt_labels[i])\n",
    "```\n",
    "**c. Sample 一些positive, negative**\n",
    "``` python\n",
    "        sampling_result = self.bbox_sampler.sample(\n",
    "            assign_result,\n",
    "            proposal_list[i],\n",
    "            gt_bboxes[i],\n",
    "            gt_labels[i],\n",
    "            feats=[lvl_feat[i][None] for lvl_feat in x])\n",
    "```\n",
    "最後將sampling結果列出，供後續\n",
    "``` python\n",
    "        # neg label weight is obtained by sampling when using ISR-N\n",
    "        neg_label_weight = None\n",
    "        if isinstance(sampling_result, tuple):\n",
    "            sampling_result, neg_label_weight = sampling_result\n",
    "        sampling_results.append(sampling_result)\n",
    "        neg_label_weights.append(neg_label_weight)\n",
    "```"
   ]
  },
  {
   "cell_type": "code",
   "execution_count": 1,
   "id": "6591ebe0",
   "metadata": {},
   "outputs": [],
   "source": [
    "import cv2\n",
    "import numpy as np\n",
    "import torch\n",
    "import matplotlib.pyplot as plt\n",
    "from mmdet.core.bbox.iou_calculators.builder import build_iou_calculator\n",
    "from mmdet.core.bbox.assigners import AssignResult"
   ]
  },
  {
   "cell_type": "code",
   "execution_count": 2,
   "id": "12fbc3c7",
   "metadata": {},
   "outputs": [],
   "source": [
    "image=torch.zeros((128,128,3))\n",
    "\n",
    "bbox = torch.tensor([[20, 20, 100, 100],],dtype=torch.int16) \n",
    "bbox_gt = torch.tensor([[60, 60, 100, 100],],dtype=torch.int16) "
   ]
  },
  {
   "cell_type": "code",
   "execution_count": 3,
   "id": "b49e5dd7",
   "metadata": {},
   "outputs": [],
   "source": [
    "iou_calculator=build_iou_calculator({'type':'BboxOverlaps2D'})\n",
    "def add_bbox(img,box,color,text):\n",
    "    img=cv2.rectangle(img, box[:2].numpy(),box[2:].numpy(), color=color, thickness=1)\n",
    "    plt.text(*box[:2].numpy(),\n",
    "             text,\n",
    "             color=color,\n",
    "             fontsize =\"large\",\n",
    "             verticalalignment=\"bottom\")\n",
    "def show_box_and_iou(image,bbox_pred,bbox_gt):\n",
    "    # 轉換圖片成numpy格式\n",
    "    plt.figure(figsize=(5,5))\n",
    "    img=image.detach().cpu().numpy().copy()\n",
    "    color_pred=(1,1,1)\n",
    "    color_gt=(0,1,0)\n",
    "    for n,box in enumerate(bbox_pred):\n",
    "        add_bbox(img,box,color_pred,f\"{n}\")\n",
    "    for n,box in enumerate(bbox_gt):\n",
    "        add_bbox(img,box,color_gt,f\"gt{n}\")\n",
    "    plt.imshow(img)\n",
    "    overlaps =iou_calculator(bbox_gt.to(torch.float32),bbox_pred.to(torch.float32))\n",
    "    plt.show()\n",
    "    return overlaps"
   ]
  },
  {
   "cell_type": "code",
   "execution_count": 4,
   "id": "dbdb8044",
   "metadata": {},
   "outputs": [
    {
     "data": {
      "image/png": "[encoded data removed]",
      "text/plain": [
       "<Figure size 360x360 with 1 Axes>"
      ]
     },
     "metadata": {
      "needs_background": "light"
     },
     "output_type": "display_data"
    },
    {
     "data": {
      "text/plain": [
       "tensor([[0.2500]])"
      ]
     },
     "execution_count": 4,
     "metadata": {},
     "output_type": "execute_result"
    }
   ],
   "source": [
    "overlaps = show_box_and_iou(image,bbox,bbox_gt);overlaps"
   ]
  },
  {
   "cell_type": "markdown",
   "id": "57677274",
   "metadata": {},
   "source": [
    "可以感受一下不同prediction,ground truth組合的的iou"
   ]
  },
  {
   "cell_type": "code",
   "execution_count": 5,
   "id": "bfb34818",
   "metadata": {},
   "outputs": [],
   "source": [
    "# def rnd_bbox(frame_w=128,fram_h=128,amnt=6):\n",
    "#     x=torch.randint(5,frame_w-5,(amnt*2,))\n",
    "#     y=torch.randint(5,fram_h-5,(amnt*2,))\n",
    "#     xs=torch.stack((x[:amnt],x[amnt:]),-1)\n",
    "#     ys=torch.stack((y[:amnt],y[amnt:]),-1)\n",
    "#     x_mins=xs.min(dim=-1,keepdim=True).values\n",
    "#     y_mins=ys.min(dim=-1,keepdim=True).values\n",
    "#     x_maxs=xs.max(dim=-1,keepdim=True).values\n",
    "#     y_maxs=ys.max(dim=-1,keepdim=True).values\n",
    "#     boxes=torch.cat((x_mins,y_mins,x_maxs,y_maxs),dim=-1)\n",
    "#     return boxes\n",
    "# W=128\n",
    "# image=torch.zeros((W,W,3))\n",
    "# num_gts=3;num_bboxes=2\n",
    "# bbox=rnd_bbox(W,W,num_bboxes)\n",
    "# bbox_gt = rnd_bbox(W,W,num_gts)\n",
    "# overlaps = show_box_and_iou(image,bbox,bbox_gt);overlaps"
   ]
  },
  {
   "cell_type": "markdown",
   "id": "f4680aa2",
   "metadata": {},
   "source": [
    "為方便解說我們用固定的組合"
   ]
  },
  {
   "cell_type": "code",
   "execution_count": 6,
   "id": "b8d6afef",
   "metadata": {},
   "outputs": [
    {
     "data": {
      "image/png": "[encoded data removed]",
      "text/plain": [
       "<Figure size 360x360 with 1 Axes>"
      ]
     },
     "metadata": {
      "needs_background": "light"
     },
     "output_type": "display_data"
    },
    {
     "data": {
      "text/plain": [
       "tensor([[0.6203, 0.2841, 0.0000, 0.0000],\n",
       "        [0.0000, 0.0000, 0.6562, 0.0000]])"
      ]
     },
     "execution_count": 6,
     "metadata": {},
     "output_type": "execute_result"
    }
   ],
   "source": [
    "bbox = torch.tensor([[25, 25, 65, 65],\n",
    "                        [35, 35, 70, 70],\n",
    "                        [90, 85, 120, 120],\n",
    "                        [20, 80, 60, 120]],dtype=torch.int16)\n",
    "bbox_gt = torch.tensor([[20, 20, 60, 60],\n",
    "                     [80, 80, 120, 120]],dtype=torch.int16) \n",
    "num_bboxes=len(bbox);num_gts=len(bbox_gt)\n",
    "overlaps = show_box_and_iou(image,bbox,bbox_gt);overlaps"
   ]
  },
  {
   "cell_type": "markdown",
   "id": "0494a207",
   "metadata": {},
   "source": [
    "### Ground Truth Assignment"
   ]
  },
  {
   "cell_type": "code",
   "execution_count": 7,
   "id": "5fa28bff",
   "metadata": {},
   "outputs": [
    {
     "data": {
      "text/plain": [
       "tensor([-1, -1, -1, -1])"
      ]
     },
     "execution_count": 7,
     "metadata": {},
     "output_type": "execute_result"
    }
   ],
   "source": [
    "# 1. assign -1 by default\n",
    "assigned_gt_inds = overlaps.new_full((num_bboxes, ),-1,dtype=torch.long)\n",
    "assigned_gt_inds"
   ]
  },
  {
   "cell_type": "code",
   "execution_count": 8,
   "id": "c54f92a6",
   "metadata": {},
   "outputs": [
    {
     "name": "stdout",
     "output_type": "stream",
     "text": [
      "tensor([0.6203, 0.2841, 0.6562, 0.0000]) tensor([0, 0, 1, 0])\n",
      "tensor([0.6203, 0.6562]) tensor([0, 2])\n"
     ]
    }
   ],
   "source": [
    "# for each anchor, which gt best overlaps with it\n",
    "# for each anchor, the max iou of all gts\n",
    "max_overlaps, argmax_overlaps = overlaps.max(dim=0)\n",
    "print(max_overlaps, argmax_overlaps )\n",
    "# for each gt, which anchor best overlaps with it\n",
    "# for each gt, the max iou of all proposals\n",
    "gt_max_overlaps, gt_argmax_overlaps = overlaps.max(dim=1)\n",
    "print(gt_max_overlaps, gt_argmax_overlaps )"
   ]
  },
  {
   "cell_type": "code",
   "execution_count": 9,
   "id": "27fe677c",
   "metadata": {},
   "outputs": [
    {
     "data": {
      "text/plain": [
       "tensor([-1,  0, -1,  0])"
      ]
     },
     "execution_count": 9,
     "metadata": {},
     "output_type": "execute_result"
    }
   ],
   "source": [
    "neg_iou_thr=0.3\n",
    "# 2. assign negative: below the negative inds are set to be 0\n",
    "if isinstance(neg_iou_thr, float):\n",
    "    assigned_gt_inds[(max_overlaps >= 0)\n",
    "                     & (max_overlaps < neg_iou_thr)] = 0\n",
    "elif isinstance(neg_iou_thr, tuple):\n",
    "    assert len(neg_iou_thr) == 2\n",
    "    assigned_gt_inds[(max_overlaps >= neg_iou_thr[0])\n",
    "                     & (max_overlaps < neg_iou_thr[1])] = 0\n",
    "assigned_gt_inds"
   ]
  },
  {
   "cell_type": "code",
   "execution_count": 10,
   "id": "f640fe0d",
   "metadata": {},
   "outputs": [
    {
     "data": {
      "text/plain": [
       "tensor([1, 0, 2, 0])"
      ]
     },
     "execution_count": 10,
     "metadata": {},
     "output_type": "execute_result"
    }
   ],
   "source": [
    "pos_iou_thr=0.6\n",
    "# 3. assign positive: above positive IoU threshold\n",
    "pos_inds = max_overlaps >= pos_iou_thr\n",
    "assigned_gt_inds[pos_inds] = argmax_overlaps[pos_inds] + 1\n",
    "assigned_gt_inds"
   ]
  },
  {
   "cell_type": "code",
   "execution_count": 11,
   "id": "e9f837a7",
   "metadata": {},
   "outputs": [
    {
     "data": {
      "text/plain": [
       "tensor([1, 0, 2, 0])"
      ]
     },
     "execution_count": 11,
     "metadata": {},
     "output_type": "execute_result"
    }
   ],
   "source": [
    "# Low-quality matching will overwrite the assigned_gt_inds assigned\n",
    "# in Step 3. Thus, the assigned gt might not be the best one for\n",
    "# prediction.\n",
    "# For example, if bbox A has 0.9 and 0.8 iou with GT bbox 1 & 2,\n",
    "# bbox 1 will be assigned as the best target for bbox A in step 3.\n",
    "# However, if GT bbox 2's gt_argmax_overlaps = A, bbox A's\n",
    "# assigned_gt_inds will be overwritten to be bbox B.\n",
    "# This might be the reason that it is not used in ROI Heads.\n",
    "min_pos_iou=0.3\n",
    "gt_max_assign_all=True # by default\n",
    "for i in range(num_gts):\n",
    "    if gt_max_overlaps[i] >= min_pos_iou:\n",
    "        if gt_max_assign_all:\n",
    "            max_iou_inds = overlaps[i, :] == gt_max_overlaps[i]\n",
    "            assigned_gt_inds[max_iou_inds] = i + 1\n",
    "        else:\n",
    "            assigned_gt_inds[gt_argmax_overlaps[i]] = i + 1\n",
    "assigned_gt_inds"
   ]
  },
  {
   "cell_type": "code",
   "execution_count": 12,
   "id": "e3efc825",
   "metadata": {},
   "outputs": [
    {
     "data": {
      "text/plain": [
       "tensor([ 0, -1,  1, -1])"
      ]
     },
     "execution_count": 12,
     "metadata": {},
     "output_type": "execute_result"
    }
   ],
   "source": [
    "gt_labels=torch.tensor([0,1],dtype=torch.long) \n",
    "if gt_labels is not None:\n",
    "    assigned_labels = assigned_gt_inds.new_full((num_bboxes, ), -1)\n",
    "    pos_inds = torch.nonzero(\n",
    "        assigned_gt_inds > 0, as_tuple=False).squeeze()\n",
    "    if pos_inds.numel() > 0:\n",
    "        assigned_labels[pos_inds] = gt_labels[\n",
    "            assigned_gt_inds[pos_inds] - 1]\n",
    "else:\n",
    "    assigned_labels = None\n",
    "assigned_labels"
   ]
  },
  {
   "cell_type": "code",
   "execution_count": 13,
   "id": "e5781609",
   "metadata": {},
   "outputs": [
    {
     "data": {
      "text/plain": [
       "{'num_gts': 2,\n",
       " 'num_preds': 4,\n",
       " 'gt_inds': tensor([1, 0, 2, 0]),\n",
       " 'max_overlaps': tensor([0.6203, 0.2841, 0.6562, 0.0000]),\n",
       " 'labels': tensor([ 0, -1,  1, -1])}"
      ]
     },
     "execution_count": 13,
     "metadata": {},
     "output_type": "execute_result"
    }
   ],
   "source": [
    "rslt=AssignResult(num_gts, assigned_gt_inds, max_overlaps, labels=assigned_labels)\n",
    "rslt.info"
   ]
  },
  {
   "cell_type": "code",
   "execution_count": 14,
   "id": "5d6b2cf1",
   "metadata": {},
   "outputs": [
    {
     "data": {
      "image/png": "[encoded data removed]",
      "text/plain": [
       "<Figure size 360x360 with 1 Axes>"
      ]
     },
     "metadata": {
      "needs_background": "light"
     },
     "output_type": "display_data"
    },
    {
     "data": {
      "text/plain": [
       "tensor([[0.6203, 0.2841, 0.0000, 0.0000],\n",
       "        [0.0000, 0.0000, 0.6562, 0.0000]])"
      ]
     },
     "execution_count": 14,
     "metadata": {},
     "output_type": "execute_result"
    }
   ],
   "source": [
    "overlaps = show_box_and_iou(image,bbox,bbox_gt);overlaps"
   ]
  },
  {
   "cell_type": "markdown",
   "id": "4a489bba",
   "metadata": {},
   "source": [
    "Importance-based Sample Reweighting(ISR)"
   ]
  },
  {
   "cell_type": "code",
   "execution_count": 1,
   "id": "01e20eb9",
   "metadata": {},
   "outputs": [],
   "source": [
    "import numpy as np\n",
    "import matplotlib.pyplot as plt"
   ]
  },
  {
   "cell_type": "code",
   "execution_count": 7,
   "id": "bf87502f",
   "metadata": {},
   "outputs": [],
   "source": [
    "def rank_score(rank,n_max=5):\n",
    "    return (n_max-rank)/n_max\n",
    "def sharpen(p,bet=0.,gam=1.):\n",
    "    return ((1.-bet)*p+bet)**gam"
   ]
  },
  {
   "cell_type": "markdown",
   "id": "9be14d04",
   "metadata": {},
   "source": [
    "<img src=https://i.imgur.com/65FacPS.png width=\"300\">"
   ]
  },
  {
   "cell_type": "code",
   "execution_count": 33,
   "id": "4b1bd9de",
   "metadata": {},
   "outputs": [
    {
     "name": "stdout",
     "output_type": "stream",
     "text": [
      "[1.   0.75 0.5  0.25 0.  ]\n",
      "[1.         0.66992188 0.421875   0.24414062 0.125     ]\n"
     ]
    }
   ],
   "source": [
    "hl_rank=np.array([0,1,2,3,4])\n",
    "hlr_score=rank_score(hl_rank,n_max=4);print(hlr_score)\n",
    "hlr_attention=sharpen(hlr_score,bet=0.5,gam=3);print(hlr_attention)"
   ]
  },
  {
   "cell_type": "code",
   "execution_count": 31,
   "id": "a724179b",
   "metadata": {},
   "outputs": [
    {
     "data": {
      "image/png": "[encoded data removed]",
      "text/plain": [
       "<Figure size 432x288 with 1 Axes>"
      ]
     },
     "metadata": {
      "needs_background": "light"
     },
     "output_type": "display_data"
    }
   ],
   "source": [
    "p=np.random.normal(loc=2.,size=(10000))\n",
    "plt.hist(sharpen(p,bet=0.5,gam=3),bins=500,histtype=\"step\")\n",
    "plt.show()"
   ]
  },
  {
   "cell_type": "code",
   "execution_count": null,
   "id": "7543715c",
   "metadata": {},
   "outputs": [],
   "source": []
  }
 ],
 "metadata": {
  "kernelspec": {
   "display_name": "Python 3 (ipykernel)",
   "language": "python",
   "name": "python3"
  },
  "language_info": {
   "codemirror_mode": {
    "name": "ipython",
    "version": 3
   },
   "file_extension": ".py",
   "mimetype": "text/x-python",
   "name": "python",
   "nbconvert_exporter": "python",
   "pygments_lexer": "ipython3",
   "version": "3.7.10"
  }
 },
 "nbformat": 4,
 "nbformat_minor": 5
}
